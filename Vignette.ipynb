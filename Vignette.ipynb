{
 "cells": [
  {
   "cell_type": "markdown",
   "metadata": {},
   "source": [
    "## AutoGluonImputer\n",
    "\n",
    "This package offers a sophisticated solution for handling missing data in datasets using the AutoGluon TabularPredictor. It's adept at working with both numerical and categorical data and provides a machine-learning-driven approach for imputation.\n"
   ]
  },
  {
   "cell_type": "code",
   "execution_count": null,
   "metadata": {},
   "outputs": [],
   "source": [
    "#!pip install --upgrade pandas numpy scikit-learn autogluon\n",
    "%load_ext autoreload\n",
    "%reload_ext autoreload\n",
    "%autoreload 2\n",
    "import pandas as pd\n",
    "import numpy as np\n",
    "from sklearn.model_selection import train_test_split\n",
    "from sklearn.datasets import fetch_openml\n",
    "from autogluon.tabular import TabularDataset\n",
    "from scripts.autogluonImputer import Imputer \n",
    "import importlib\n"
   ]
  },
  {
   "cell_type": "code",
   "execution_count": null,
   "metadata": {},
   "outputs": [],
   "source": [
    "# get help about Imputer\n",
    "help(Imputer)\n",
    "\n",
    "# print the content of Imputer\n",
    "import inspect\n",
    "print(inspect.getsource(Imputer))"
   ]
  },
  {
   "cell_type": "markdown",
   "metadata": {},
   "source": [
    "#### Step 2: Prepare the Data\n"
   ]
  },
  {
   "cell_type": "code",
   "execution_count": null,
   "metadata": {},
   "outputs": [],
   "source": [
    "\n",
    "# Load the data\n",
    "X, y = fetch_openml(\n",
    "    \"titanic\", version=1, as_frame=True, return_X_y=True, parser=\"pandas\"\n",
    ")\n",
    "\n",
    "# combine X and y in one dataframe\n",
    "df=X.copy()\n",
    "df['target']=y\n",
    "df.head()\n",
    "# drop name and ticket\n",
    "\n",
    "df.drop(['name','ticket'],axis=1,inplace=True)\n"
   ]
  },
  {
   "cell_type": "code",
   "execution_count": null,
   "metadata": {},
   "outputs": [],
   "source": [
    "df=TabularDataset(df)\n",
    "df.dtypes\n",
    "# convert object to category\n",
    "for col in df.columns:\n",
    "    if df[col].dtype=='object':\n",
    "        df[col]=df[col].astype('category')\n",
    "\n",
    "# convert integer to float\n",
    "for col in df.columns:\n",
    "    if df[col].dtype=='int64':\n",
    "        df[col]=df[col].astype('float64')\n",
    "\n",
    "df.dtypes\n"
   ]
  },
  {
   "cell_type": "code",
   "execution_count": null,
   "metadata": {},
   "outputs": [],
   "source": [
    "\n",
    "# Split the data into train and test sets\n",
    "train, test = train_test_split(df, test_size=0.3, random_state=42)\n",
    "\n",
    "# Introduce missingness\n",
    "train_missing = train.mask(np.random.random(train.shape) < 0.2)\n",
    "test_missing = test.mask(np.random.random(test.shape) < 0.2)\n"
   ]
  },
  {
   "cell_type": "markdown",
   "metadata": {},
   "source": []
  },
  {
   "cell_type": "markdown",
   "metadata": {},
   "source": [
    "## Step 3: Impute Missing Values"
   ]
  },
  {
   "cell_type": "code",
   "execution_count": null,
   "metadata": {},
   "outputs": [],
   "source": [
    "imputer = Imputer(num_iter=2, time_limit=5)\n",
    "train_imputed = imputer.fit(train_missing)\n",
    "test_imputed = imputer.transform(test_missing)\n"
   ]
  },
  {
   "cell_type": "code",
   "execution_count": null,
   "metadata": {},
   "outputs": [],
   "source": [
    "# Compare imputed values with original values for the target variable\n",
    "import matplotlib.pyplot as plt\n",
    "import seaborn as sns\n",
    "sns.set()\n",
    "# Identify missing indices in test dataset\n",
    "missing_indices_test = test_missing['age'].index[test_missing['age'].apply(np.isnan)]\n",
    "\n",
    "# Plot imputed values against original values\n",
    "plt.scatter(test_imputed['age'][missing_indices_test], test['age'][missing_indices_test])\n",
    "plt.xlabel('Imputed Values')\n",
    "plt.ylabel('Original Values')\n",
    "plt.title('Imputed Values vs Original Values')\n",
    "sns.regplot(x=test_imputed['age'][missing_indices_test], y=test['age'][missing_indices_test], scatter=False, color='red')\n",
    "# Calculate and display the correlation coefficient\n",
    "# put test_imputed['age'][missing_indices_test], test['age'][missing_indices_test] in a dataframe\n",
    "df=pd.DataFrame({'imputed':test_imputed['age'][missing_indices_test], 'original':test['age'][missing_indices_test]})\n",
    "# remove rows with missing values\n",
    "df=df.dropna()\n",
    "# calculate correlation coefficient\n",
    "corr = np.corrcoef(df['imputed'], df['original'])[0,1]\n",
    "plt.text(.6, .75, f'Correlation Coefficient = {round(corr, 2)}', horizontalalignment='center', verticalalignment='center', transform=plt.gca().transAxes, color='black')\n",
    "plt.show()"
   ]
  },
  {
   "cell_type": "code",
   "execution_count": null,
   "metadata": {},
   "outputs": [],
   "source": [
    "test_imputed.head()"
   ]
  },
  {
   "cell_type": "code",
   "execution_count": null,
   "metadata": {},
   "outputs": [],
   "source": [
    "imputer.evaluate_imputation(train, percentage=.2, ntimes=3)\n"
   ]
  },
  {
   "cell_type": "markdown",
   "metadata": {},
   "source": [
    "# multiple imputation"
   ]
  },
  {
   "cell_type": "code",
   "execution_count": null,
   "metadata": {},
   "outputs": [],
   "source": [
    "from scripts.autogluonImputer import multiple_imputation\n",
    "num_iter=2\n",
    "time_limit=10\n",
    "train_imputed = multiple_imputation(train_missing, n_imputations=10, num_iter=num_iter, time_limit=time_limit, fitonce=True)\n"
   ]
  },
  {
   "cell_type": "code",
   "execution_count": null,
   "metadata": {},
   "outputs": [],
   "source": [
    "train_imputed[0].head()"
   ]
  },
  {
   "cell_type": "code",
   "execution_count": null,
   "metadata": {},
   "outputs": [],
   "source": [
    "train_imputed[1].head()"
   ]
  },
  {
   "cell_type": "code",
   "execution_count": null,
   "metadata": {},
   "outputs": [],
   "source": [
    "train_imputed[1].dtypes"
   ]
  }
 ],
 "metadata": {
  "kernelspec": {
   "display_name": "DataScienceEnv_Autoencoder",
   "language": "python",
   "name": "python3"
  },
  "language_info": {
   "codemirror_mode": {
    "name": "ipython",
    "version": 3
   },
   "file_extension": ".py",
   "mimetype": "text/x-python",
   "name": "python",
   "nbconvert_exporter": "python",
   "pygments_lexer": "ipython3",
   "version": "3.10.0"
  }
 },
 "nbformat": 4,
 "nbformat_minor": 2
}
